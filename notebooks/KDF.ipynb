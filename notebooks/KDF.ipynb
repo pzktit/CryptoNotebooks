{
 "cells": [
  {
   "cell_type": "markdown",
   "metadata": {},
   "source": [
    "# Funkcje generacji klucza (ang. [*Key Derivation Function*](https://en.wikipedia.org/wiki/Key_derivation_function)) (KDF)"
   ]
  },
  {
   "cell_type": "markdown",
   "metadata": {},
   "source": [
    "Składnia funkcji jest nastepująca:\n",
    "\n",
    "$key = KDF( password, salt, cost)$\n",
    "\n",
    "Są to fukcje jednokierukowe których koszt obliczenia wprzód jest dość znaczny. Parametr kosztu $cost$ dobiera się tak aby obliczenie zajmowało ok. 0.1ms. Parametr ten jest zazwyczaj niezmienny dla określonej implementacji. Przy takich nastawach koszt weryfikacji właściwego hasła jest zaniedbywalny, jednak przeprowadzenie ataku słownikowego na parametr $password$ jest bardzo złożone obliczeniowo. Parametr $salt$ jest liczbą pseudolosową, co uniemożliwia wykonanie obliczeń na zapas ze względu na rozmiar wymaganej bazy. Zazwyczaj wartość $salt$ jest zapisana w bazie systemowej razem z warościa $key$."
   ]
  },
  {
   "cell_type": "markdown",
   "metadata": {},
   "source": [
    "Technikę tę nazywa się soleniem hasła lub rozciąganiem klucza (ang. [*key streching*](https://en.wikipedia.org/wiki/Key_stretching)). Odmianę w której paramer $salt$ jest zapominany i do porównania należy wykonać przeszukiwania możliwych wartości tego parametru nazywa się wzmacnianiem klucza (ang. *key strengthening*)."
   ]
  },
  {
   "cell_type": "markdown",
   "metadata": {},
   "source": [
    "## PBKDF2"
   ]
  },
  {
   "cell_type": "code",
   "execution_count": 1,
   "metadata": {},
   "outputs": [
    {
     "name": "stdout",
     "output_type": "stream",
     "text": [
      "Salt: b'188ac80dd5895f7c750701d627794197'\n",
      "Derived key: b'6515ede97ca92a7cdad867e71c221a562c858d564cc15e491bad311f1b7a63161a7bc31879cb2f0d03843927fcfeb4aa8cdc988e032069c7479a05fcf4af1a7e'\n"
     ]
    }
   ],
   "source": [
    "import os, binascii\n",
    "# Przykładowa generacja klucza dla AES256\n",
    "from Crypto.Protocol.KDF import PBKDF2\n",
    "from Crypto.Hash import SHA256\n",
    "salt = os.urandom(16)\n",
    "password = b'password123'\n",
    "key = PBKDF2(password, salt, 64, count=1000, hmac_hash_module=SHA256)\n",
    "print(\"Salt:\", binascii.hexlify(salt))\n",
    "print(\"Derived key:\", binascii.hexlify(key))"
   ]
  },
  {
   "cell_type": "markdown",
   "metadata": {},
   "source": [
    "Zauważ, ze każde uruchomienie kodu powyżej daje inny wynik bo zmienia sie parametr $salt$."
   ]
  },
  {
   "cell_type": "markdown",
   "metadata": {},
   "source": [
    "## Bcrypt"
   ]
  },
  {
   "cell_type": "code",
   "execution_count": 2,
   "metadata": {},
   "outputs": [
    {
     "name": "stdout",
     "output_type": "stream",
     "text": [
      "Salt: b'06c80f66271fdfb26a4b6f34beec171e'\n",
      "Hashed password: b'24326124313224574a4e575631787a67785954467a51784c50696a37654d4336645963537735715041332f48637a41566947306649694d41676e7a57'\n"
     ]
    }
   ],
   "source": [
    "import os, binascii\n",
    "from base64 import b64encode\n",
    "from Crypto.Protocol.KDF import bcrypt\n",
    "from Crypto.Hash import SHA3_256\n",
    "salt = os.urandom(16)\n",
    "password = b'password123'\n",
    "# Bcrypt domyslnie nie soli haseł, można to zrobić na zewnątrz algorytmu\n",
    "b64pwd = b64encode(SHA3_256.new(salt+password).digest())\n",
    "bcrypt_hash = bcrypt(b64pwd, 12)\n",
    "print(\"Salt:\", binascii.hexlify(salt))\n",
    "print(\"Hashed password:\", binascii.hexlify(bcrypt_hash))"
   ]
  },
  {
   "cell_type": "markdown",
   "metadata": {},
   "source": [
    "Obiekt zawiera interfejs do sprawdzenia poprawności hasła wprowadzonego przez użytkownika."
   ]
  },
  {
   "cell_type": "code",
   "execution_count": 3,
   "metadata": {},
   "outputs": [
    {
     "name": "stdout",
     "output_type": "stream",
     "text": [
      "OK\n"
     ]
    }
   ],
   "source": [
    "from Crypto.Protocol.KDF import bcrypt_check\n",
    "user_pass = b\"password123\"\n",
    "try:\n",
    "    b64pwd = b64encode(SHA3_256.new(salt+user_pass).digest())\n",
    "    bcrypt_check(b64pwd, bcrypt_hash)\n",
    "    print(\"OK\")\n",
    "except ValueError:\n",
    "    print(\"Incorrect password\")"
   ]
  },
  {
   "cell_type": "markdown",
   "metadata": {},
   "source": [
    "## [Scrypt](https://en.wikipedia.org/wiki/Scrypt)"
   ]
  },
  {
   "cell_type": "markdown",
   "metadata": {},
   "source": [
    "Scrypt wewnętrznie używa funkcji PBKDF2. Doddakowe parametry służą lepszemu dopasowaniu kosztu obliczeń do architektury systemu (wg. mnie to bez sensu, bo nie da się przewidzieć co kryptoanalityk będzie miał do dyspozycji).\n",
    "\n",
    "Składnia:\n",
    "\n",
    "scrypt(password, salt, N, r, p, buflen).\n",
    "    The parameters r, p, and buflen must satisfy r * p < 2^30 and\n",
    "    buflen <= (2^32 - 1) * 32. The parameter N must be a power of 2\n",
    "    greater than 1. N, r and p must all be positive."
   ]
  },
  {
   "cell_type": "code",
   "execution_count": 4,
   "metadata": {},
   "outputs": [
    {
     "name": "stdout",
     "output_type": "stream",
     "text": [
      "Salt: b'192ee0e4a8316d396b3e79739e631300'\n",
      "Derived key: b'17db61aa377fe5b318573b6eaa3e7e2d'\n"
     ]
    }
   ],
   "source": [
    "import os,binascii\n",
    "from Crypto.Protocol.KDF import scrypt\n",
    "password = b'password123'\n",
    "salt = os.urandom(16)\n",
    "# Parametry dogodne dla sprawdzania haseł t<=100ms\n",
    "key = scrypt(password, salt, 16, N=2**14, r=8, p=1) \n",
    "# Parametry dogodne dla generacji kluczy sesyjnych (np. szyfrowanie plików) t<=5s\n",
    "# key = scrypt(password, salt, 16, N=2**20, r=8, p=1) \n",
    "print(\"Salt:\", binascii.hexlify(salt))\n",
    "print(\"Derived key:\", binascii.hexlify(key))"
   ]
  },
  {
   "cell_type": "markdown",
   "metadata": {},
   "source": [
    "## Argon2"
   ]
  },
  {
   "cell_type": "markdown",
   "metadata": {},
   "source": [
    "Obecnie (kwiecień 2021) uważa się, że funkcja Argon2 jest lepsza od innych funkcji KDF i powinna być używana gdy tylko jest to możliwe."
   ]
  },
  {
   "cell_type": "code",
   "execution_count": 5,
   "metadata": {},
   "outputs": [
    {
     "name": "stdout",
     "output_type": "stream",
     "text": [
      "Salt: b'19c74c0464037badb17a8e6c67b53c2420d5ff5cd020886d224eb3fa13dc9621'\n",
      "Derived key: b'17db61aa377fe5b318573b6eaa3e7e2d'\n"
     ]
    }
   ],
   "source": [
    "import os,binascii,argon2\n",
    "salt = os.urandom(32)\n",
    "password = b'password123'\n",
    "hash = argon2.hash_password_raw(password=password,salt=salt,\n",
    "    time_cost=16, memory_cost=2**15, parallelism=2, hash_len=32, type=argon2.low_level.Type.ID)\n",
    "print(\"Salt:\", binascii.hexlify(salt))\n",
    "print(\"Derived key:\", binascii.hexlify(key))"
   ]
  },
  {
   "cell_type": "markdown",
   "metadata": {},
   "source": [
    "Należy pamiętać, że tym razem w bazie należy przechowywać nie tylko sól ale wszystkie pozostałe parametry obliczeń. Biblioteka zapewnia gotowy prymityw służący do tego celu. W poniższym kodzie sól jest obliczana automatycznie i nie wymaga interwencji programisty."
   ]
  },
  {
   "cell_type": "code",
   "execution_count": 6,
   "metadata": {},
   "outputs": [
    {
     "name": "stdout",
     "output_type": "stream",
     "text": [
      "Argon2 hash (random salt): $argon2id$v=19$m=32768,t=16,p=2$YYWNmdlhOK7RHhRyNJqE1w$3tfGVHnUoaBAh+c7KxfcsgD3cdkeqGXos2L9V9zi72Q\n",
      "Is 'password123` a correct password: True\n",
      "Is '123password` a correct password: False\n"
     ]
    }
   ],
   "source": [
    "import os,binascii,argon2\n",
    "a2hasher = argon2.PasswordHasher(time_cost=16, memory_cost=2**15, parallelism=2, hash_len=32, salt_len=16)\n",
    "password = b'password123'\n",
    "phash = a2hasher.hash(password)\n",
    "print(\"Argon2 hash (random salt):\", phash)\n",
    "\n",
    "def passwd_verify(hasher, phash, passwd) :\n",
    "    try:\n",
    "        hasher.verify(phash, passwd)\n",
    "        return True\n",
    "    except:\n",
    "        return False\n",
    "\n",
    "print(\"Is 'password123` a correct password:\", passwd_verify(a2hasher, phash, b\"password123\"))\n",
    "print(\"Is '123password` a correct password:\", passwd_verify(a2hasher, phash, b\"123password\"))"
   ]
  }
 ],
 "metadata": {
  "kernelspec": {
   "display_name": "Python 3",
   "language": "python",
   "name": "python3"
  },
  "language_info": {
   "codemirror_mode": {
    "name": "ipython",
    "version": 3
   },
   "file_extension": ".py",
   "mimetype": "text/x-python",
   "name": "python",
   "nbconvert_exporter": "python",
   "pygments_lexer": "ipython3",
   "version": "3.9.4"
  }
 },
 "nbformat": 4,
 "nbformat_minor": 4
}
