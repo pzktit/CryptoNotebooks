{
 "cells": [
  {
   "cell_type": "markdown",
   "metadata": {},
   "source": [
    "# Szyfrowanie uwierzytelnione z danymi uzupełniającymi (AEAD) (ang. Authenticated Encryption with Additional Data)"
   ]
  },
  {
   "cell_type": "markdown",
   "metadata": {},
   "source": [
    "W czasie transmisji pakietowych część danych musi pozostać otwarta aby np. umożliwić właściwy routing pakietu. Jednocześnie chcemy, aby dane te nie zostały zmienione w czasie transmisji. Z kolei pole danych (tzw. payload) ma być utajnione. Jednocześnie chcemy zapewnić zablokować możliwość modyfikacji danych otwartych i zaszyfrowanych. W tym celu opracowano tryby pracy szyfrów które łączą te dwa, pozornie odrębne zadania w jeden prymityw kryptograficzny. Dalej zostaną zaprezentowane przykłady ochrony danych w tym trybie."
   ]
  },
  {
   "cell_type": "markdown",
   "metadata": {},
   "source": [
    "## AKA"
   ]
  },
  {
   "cell_type": "markdown",
   "metadata": {},
   "source": [
    "Przed wykonaniem szyfrowania i deszyfrowania strony muszą być wyposażone w klucz tajny. Jeżeli współdzielona tajemnica jest tylko hasłem o niskiej entropii to należy przeprowadzić procedurę *key streching*. Oprócz współdzielonego hasła jej parametrem jest współdzielona i jawna liczba losowa *salt*. Od strony teoretycznej procedury te zostaną omówione przy innej okazji (patrz rozdział KDF). Tutaj zostanie przedstawiona tylko procedura która realizuje to zadanie. Procedurę tę muszą wykonać zarówno nadawca jak i odbiorca."
   ]
  },
  {
   "cell_type": "code",
   "execution_count": 2,
   "metadata": {},
   "outputs": [
    {
     "name": "stdout",
     "output_type": "stream",
     "text": [
      "Salt=  b'fa9d10bcff59158f169628f2f534cd11'\n",
      "Secret Key=  b'aaa8ea02475256974b24f476bf6a0bad810bf621a52a55b444702a89b222fa82'\n"
     ]
    }
   ],
   "source": [
    "import binascii\n",
    "from Crypto.Protocol.KDF import PBKDF2\n",
    "from Crypto.Hash import SHA256\n",
    "from Crypto.Random import get_random_bytes\n",
    "# Key stretching\n",
    "password = b'password123'\n",
    "salt = get_random_bytes(16)\n",
    "secret_key = PBKDF2(password, salt, 32, count=100000, hmac_hash_module=SHA256)\n",
    "print(\"Salt= \", binascii.hexlify(salt))\n",
    "print(\"Secret Key= \", binascii.hexlify(secret_key))"
   ]
  },
  {
   "cell_type": "markdown",
   "metadata": {},
   "source": [
    "## AES CCM (CTR with CBC MAC)"
   ]
  },
  {
   "cell_type": "markdown",
   "metadata": {},
   "source": [
    "Nadawca i odbiorca współdzielą klucz (np. wyprowadzony z tego samego hasła jak w WPA-PSK). Procedurę uzgadniania klucza nazywa się AKA (Authentication and Key Agreement) przy czym uwierzytelnienie dotyczy tutaj użytkowników."
   ]
  },
  {
   "cell_type": "markdown",
   "metadata": {},
   "source": [
    "### Szyfrowanie"
   ]
  },
  {
   "cell_type": "markdown",
   "metadata": {},
   "source": [
    "Jednorazową liczbę losową 'nonce' służącą do wyprowadzenia klucza unikalnego dla każdej wiadomości przesyła się w postaci jawnej."
   ]
  },
  {
   "cell_type": "code",
   "execution_count": 3,
   "metadata": {},
   "outputs": [
    {
     "name": "stdout",
     "output_type": "stream",
     "text": [
      "Recipient receives:\n",
      "Nonce=  b'a655229de803de1c1ecbe0' 11\n",
      "Ciphertext=  b'c2567833ef92fa1aef3b18f0bc7329fdee64483aca1c53e8c9dd70e3dc'\n",
      "MAC=  b'5b1ca124c8a958738d3114a6253d30d4' 16\n"
     ]
    }
   ],
   "source": [
    "import os, binascii\n",
    "from Crypto.Cipher import AES\n",
    "# Prepare cipher\n",
    "message = 'To jest text do zaszyfrowania'\n",
    "cipher = AES.new(secret_key, AES.MODE_CCM)\n",
    "anonce = cipher.nonce \n",
    "payload = message.encode('utf-8')\n",
    "#cipher.update(anonce)\n",
    "ciphertext, mac = cipher.encrypt_and_digest(payload)\n",
    "# Send encrypted data\n",
    "print(\"Recipient receives:\")\n",
    "print(\"Nonce= \", binascii.hexlify(anonce),len(anonce))\n",
    "print(\"Ciphertext= \", binascii.hexlify(ciphertext))\n",
    "print(\"MAC= \", binascii.hexlify(mac),len(mac))\n",
    "message = anonce + ciphertext + mac"
   ]
  },
  {
   "cell_type": "markdown",
   "metadata": {},
   "source": [
    "### Deszyfrowanie"
   ]
  },
  {
   "cell_type": "markdown",
   "metadata": {},
   "source": [
    "Po odebraniu pakietu należy sprawdzić, czy suma kontrolna dla nagłówka i szyfrogramu jest poprawna, a następnie odszyfrować payload"
   ]
  },
  {
   "cell_type": "code",
   "execution_count": 5,
   "metadata": {},
   "outputs": [
    {
     "name": "stdout",
     "output_type": "stream",
     "text": [
      "Message=  To jest text do zaszyfrowania\n"
     ]
    }
   ],
   "source": [
    "anonce = message[:11]\n",
    "mac = message[-16:]\n",
    "ciphertext = message[11:-16]\n",
    "decryptor = AES.new(secret_key, AES.MODE_CCM, nonce=anonce)\n",
    "try:\n",
    "    #decryptor.update(anonce)\n",
    "    payload = decryptor.decrypt_and_verify(ciphertext, mac)\n",
    "    print(\"Message= \", payload.decode('utf-8'))\n",
    "except:\n",
    "    print(\"Incorrect decryption\")"
   ]
  },
  {
   "cell_type": "markdown",
   "metadata": {},
   "source": [
    "## ChaCha20 i Poly1305"
   ]
  },
  {
   "cell_type": "markdown",
   "metadata": {},
   "source": [
    "Schemat użycia trybu z innym zestawem algorytmów jest dokładnie taki sam. Na przykład szyfrowanie w trybie AEAD z wykorzystaniem szyfru ChaCha20 i funkcji MAC Poly1305 wygląda następująco (należy pamiętać, że tym razem klucz współdzielony **musi** mieć 256 bitów (32 bajty)):"
   ]
  },
  {
   "cell_type": "markdown",
   "metadata": {},
   "source": [
    "### Szyfrowanie"
   ]
  },
  {
   "cell_type": "code",
   "execution_count": null,
   "metadata": {},
   "outputs": [],
   "source": [
    "import os, binascii\n",
    "from Crypto.Cipher import ChaCha20_Poly1305\n",
    "# Prepare data to encrypt\n",
    "confidential_payload = 'To jest text do zaszyfrowania'.encode('utf-8')\n",
    "additional_open_data = b'12345678'\n",
    "# Prepare cipher\n",
    "encryptor = ChaCha20_Poly1305.new(key=secret_key)\n",
    "encryptor.update(additional_open_data)\n",
    "ciphertext, mac = encryptor.encrypt_and_digest(confidential_payload)\n",
    "message = encryptor.nonce + additional_open_data + ciphertext + mac\n",
    "# Send encrypted data\n",
    "print(\"Recipient receives:\")\n",
    "print(\"Nonce= \", binascii.hexlify(encryptor.nonce), len(encryptor.nonce))\n",
    "print(\"Header= \", binascii.hexlify(additional_open_data))\n",
    "print(\"Ciphertext= \", binascii.hexlify(ciphertext))\n",
    "print(\"MAC= \", binascii.hexlify(mac), len(mac))"
   ]
  },
  {
   "cell_type": "markdown",
   "metadata": {},
   "source": [
    "### Deszyfrowanie"
   ]
  },
  {
   "cell_type": "markdown",
   "metadata": {},
   "source": [
    "Deszyfrowanie przebiega wg teo samego schematu: sprawdź sumę kontrolną a potem odszyfruj treść komunikatu"
   ]
  },
  {
   "cell_type": "code",
   "execution_count": null,
   "metadata": {},
   "outputs": [],
   "source": [
    "anonce = message[:12]\n",
    "header = message[12:(12+8)]\n",
    "ciphertext = message[(12+8):-16]\n",
    "mac = message[-16:]\n",
    "decryptor = ChaCha20_Poly1305.new(key=secret_key, nonce=anonce)\n",
    "try:\n",
    "    decryptor.update(header)\n",
    "    payload = decryptor.decrypt_and_verify(ciphertext, mac)\n",
    "    print(\"Message= \", payload.decode('utf-8'))\n",
    "except:\n",
    "    print(\"Incorrect decryption\")"
   ]
  },
  {
   "cell_type": "code",
   "execution_count": null,
   "metadata": {},
   "outputs": [],
   "source": []
  }
 ],
 "metadata": {
  "kernelspec": {
   "display_name": "Python 3",
   "language": "python",
   "name": "python3"
  },
  "language_info": {
   "codemirror_mode": {
    "name": "ipython",
    "version": 3
   },
   "file_extension": ".py",
   "mimetype": "text/x-python",
   "name": "python",
   "nbconvert_exporter": "python",
   "pygments_lexer": "ipython3",
   "version": "3.9.4"
  }
 },
 "nbformat": 4,
 "nbformat_minor": 4
}
