{
 "cells": [
  {
   "cell_type": "markdown",
   "metadata": {},
   "source": [
    "# Sumy uwierzytelniające wiadomość, [Message Authentication Codes (MAC)](https://en.wikipedia.org/wiki/Message_authentication_code)"
   ]
  },
  {
   "cell_type": "markdown",
   "metadata": {},
   "source": [
    "## [HMAC](https://en.wikipedia.org/wiki/HMAC) (*Hash based MAC*)"
   ]
  },
  {
   "cell_type": "markdown",
   "metadata": {},
   "source": [
    "Ze względu na [atak rozszerzający](https://en.wikipedia.org/wiki/Length_extension_attack)(ang. *Length Extension Attacks*) funkcje skrótu zbudowane w oparciu o paradygmat [Merkle–Damgård (MD)](https://en.wikipedia.org/wiki/Merkle%E2%80%93Damg%C3%A5rd_construction) nie mogą być wykorzystane **wprost** do wyznaczania kodów uwierzytalniających i wymagają korzystania z konstrukcji [HMAC](https://en.wikipedia.org/wiki/HMAC)."
   ]
  },
  {
   "cell_type": "code",
   "execution_count": 4,
   "metadata": {},
   "outputs": [
    {
     "name": "stdout",
     "output_type": "stream",
     "text": [
      "MAC= b'609e799f65db3558e59c78a4dae85e37463fadee2d44e9d945a4d02de0d8c12d'\n"
     ]
    }
   ],
   "source": [
    "import binascii\n",
    "from Crypto.Hash import HMAC, SHA256\n",
    "key = b\"tojesthaslo\"\n",
    "hmac = HMAC.new(key, digestmod=SHA256)\n",
    "hmac.update(b'Salve mundi, ')\n",
    "hmac.update(b'Hello world, ')\n",
    "hmac.update(\"Po łacinie wszystko brzmi mądrze!\".encode('utf-8'))\n",
    "mac = hmac.digest()\n",
    "print(\"MAC=\",binascii.hexlify(mac))"
   ]
  },
  {
   "cell_type": "markdown",
   "metadata": {},
   "source": [
    "Weryfikacja przebiegga wg schematu"
   ]
  },
  {
   "cell_type": "code",
   "execution_count": 5,
   "metadata": {},
   "outputs": [
    {
     "name": "stdout",
     "output_type": "stream",
     "text": [
      "The message 'Salve mundi, Hello world, Po łacinie wszystko brzmi mądrze!' is authentic\n"
     ]
    }
   ],
   "source": [
    "key = b\"tojesthaslo\"\n",
    "msg = b'Salve mundi, ' + b'Hello world, ' + \"Po łacinie wszystko brzmi mądrze!\".encode('utf-8')\n",
    "hmac_verifier = HMAC.new(key, digestmod=SHA256)\n",
    "hmac_verifier.update(msg)\n",
    "try:\n",
    "    hmac_verifier.verify(mac)\n",
    "    print(\"The message '%s' is authentic\" % msg.decode('utf-8'))\n",
    "except ValueError:\n",
    "    print(\"The message or the key is wrong\")"
   ]
  },
  {
   "cell_type": "markdown",
   "metadata": {},
   "source": [
    "## KMAC (Keccak MAC)"
   ]
  },
  {
   "cell_type": "markdown",
   "metadata": {},
   "source": [
    "Algorytmy Keccak oraz wywiedziony z niego [SHA3](https://en.wikipedia.org/wiki/SHA-3) korzystają z paradygmatu gąbki i nie są podatne na atak rozszerzający. Wobec tego sumy uwierzytelniające mogą być za jego pomoca obliczane wprost $MAC=SHA3(\\, key\\, ||\\, message\\, )$ gdzie operator '$||$' oznacza sklejanie ciągów bitów/bajtów."
   ]
  },
  {
   "cell_type": "markdown",
   "metadata": {},
   "source": [
    "\"*Unlike SHA-1 and SHA-2, Keccak does not have the length-extension weakness, hence does not need the HMAC nested construction. Instead, MAC computation can be performed by simply prepending the message with the key.*\" patrz [Keccak (SHA3) website](https://keccak.team/index.html)"
   ]
  },
  {
   "cell_type": "code",
   "execution_count": 7,
   "metadata": {},
   "outputs": [
    {
     "name": "stdout",
     "output_type": "stream",
     "text": [
      "hash = b'439583db2fa4427b290248aed5af3529da2feb58962533640a9a549b9ae3108b'\n"
     ]
    }
   ],
   "source": [
    "from Crypto.Hash import SHA3_256\n",
    "import binascii\n",
    "hasher = SHA3_256.new() \n",
    "key = b\"tojesthaslo\"\n",
    "msg = b'Salve mundi, ' + b'quidquid discis, tibi discis, ' + \"Po łacinie wszystko brzmi mądrze!\".encode('utf-8')\n",
    "hasher.update(key+msg)\n",
    "sha3_256_hash = hasher.digest()\n",
    "print(\"hash =\", binascii.hexlify(sha3_256_hash))"
   ]
  },
  {
   "cell_type": "markdown",
   "metadata": {},
   "source": [
    "## Inne typy sum kontronych"
   ]
  },
  {
   "cell_type": "markdown",
   "metadata": {},
   "source": [
    "Inne typy sum kontrolnych zostaną omówione przy okazji szyfrowania uwierzytelnionego: CMAC (Cipher-based MAC), Poly1305 (Bernstein's one-time authenticator), GMAC (Galois MAC), SipHash (simple, fast, secure MAC)."
   ]
  }
 ],
 "metadata": {
  "kernelspec": {
   "display_name": "Python 3",
   "language": "python",
   "name": "python3"
  },
  "language_info": {
   "codemirror_mode": {
    "name": "ipython",
    "version": 3
   },
   "file_extension": ".py",
   "mimetype": "text/x-python",
   "name": "python",
   "nbconvert_exporter": "python",
   "pygments_lexer": "ipython3",
   "version": "3.8.8"
  }
 },
 "nbformat": 4,
 "nbformat_minor": 4
}
