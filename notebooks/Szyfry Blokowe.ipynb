{
 "cells": [
  {
   "cell_type": "markdown",
   "metadata": {},
   "source": [
    "# Szyfry blokowe"
   ]
  },
  {
   "cell_type": "markdown",
   "metadata": {},
   "source": [
    "## AKA"
   ]
  },
  {
   "cell_type": "markdown",
   "metadata": {},
   "source": [
    "Przed wykonaniem szyfrowania i deszyfrowania strony muszą być wyposażone w klucz tajny. Jeżeli współdzielona tajemnica jest tylko hasłem o niskiej entropii to należy przeprowadzić procedurę *key streching*. Oprócz współdzielonego hasła jej parametrem jest współdzielona i jawna liczba losowa *salt*. Od strony teoretycznej procedury te zostaną omówione przy innej okazji. Tutaj zostanie przedstawiona tylko procedura która realizuje to zadanie. Procedurę tę muszą wykonać nadawca i odbiorca."
   ]
  },
  {
   "cell_type": "code",
   "execution_count": 1,
   "metadata": {},
   "outputs": [
    {
     "name": "stdout",
     "output_type": "stream",
     "text": [
      "Salt=  b'c21a756a4caf6431e47b9a540f616481'\n",
      "Secret Key=  b'd33f57cb8b61449062f8ec37013be379ca515c5c8bbf78cff330eb3efaaf6c94'\n"
     ]
    }
   ],
   "source": [
    "import binascii\n",
    "from Crypto.Protocol.KDF import PBKDF2\n",
    "from Crypto.Hash import SHA256\n",
    "from Crypto.Random import get_random_bytes\n",
    "# Key stretching\n",
    "password = b'password123'\n",
    "salt = get_random_bytes(16)\n",
    "# salt = b'\\x00' * 16\n",
    "secret_key = PBKDF2(password, salt, 32, count=100000, hmac_hash_module=SHA256)\n",
    "print(\"Salt= \", binascii.hexlify(salt))\n",
    "print(\"Secret Key= \", binascii.hexlify(secret_key))"
   ]
  },
  {
   "cell_type": "markdown",
   "metadata": {},
   "source": [
    "## Tryb CBC"
   ]
  },
  {
   "cell_type": "markdown",
   "metadata": {},
   "source": [
    "### Szyfrowanie"
   ]
  },
  {
   "cell_type": "markdown",
   "metadata": {},
   "source": [
    "Szyfrowanie obejmuje \n",
    "* przekształcenie hasła uzytkownika w klucz kryptograficzny o długości wymaganej przez algorytm,\n",
    "* przygotowanie danych dla trybu pracy,\n",
    "* preprocessing wiadomości (padding),"
   ]
  },
  {
   "cell_type": "code",
   "execution_count": 3,
   "metadata": {},
   "outputs": [
    {
     "name": "stdout",
     "output_type": "stream",
     "text": [
      "Recipient receives:\n",
      "IV=  b'b4d1e607820be44c13e683c414fd759a'\n",
      "Ciphertext=  b'5e6c3eded51677bc3b6aec1982011b5b47f2114c6342ea7fa83f95e47bd2069e354a3a8acfb1adaccc2bb6ff5de66a7c766d8cca707b25ae884b942c0db063f32065fa6d782c73214d25f9fd572e7337'\n"
     ]
    }
   ],
   "source": [
    "from Crypto.Random import get_random_bytes\n",
    "from Crypto.Cipher import AES\n",
    "from Crypto.Util import Padding\n",
    "# Prepare cipher\n",
    "iv = get_random_bytes(AES.block_size)\n",
    "cipher = AES.new(secret_key, AES.MODE_CBC, iv)\n",
    "# Prepare message\n",
    "message = 'To jest text do zaszyfrowania i jeszcze trochę aby wyszły dwa bloki'\n",
    "plaintext = Padding.pad(message.encode('utf-8'),AES.block_size,'pkcs7')\n",
    "ciphertext = cipher.encrypt(plaintext)\n",
    "message = iv + ciphertext\n",
    "# Send encrypted data\n",
    "print(\"Recipient receives:\")\n",
    "print(\"IV= \", binascii.hexlify(iv))\n",
    "print(\"Ciphertext= \", binascii.hexlify(ciphertext))"
   ]
  },
  {
   "cell_type": "markdown",
   "metadata": {},
   "source": [
    "### Deszyfrowanie"
   ]
  },
  {
   "cell_type": "markdown",
   "metadata": {},
   "source": [
    "Odbiorca z przeprowadzonej wcześniej procedury AKA ma odtworzony *secret_key*.\n",
    "Deszyfrowanie składa się z następujących kroków:\n",
    "* odzyskanie wartości *iv* zawartej w komunikacie i zainicjowanie szyfru,\n",
    "* konwersja szyfrogramu do tekstu jawnego,\n",
    "* usuniecię uzupełnienia dodanego przed zaszyfrowaniem."
   ]
  },
  {
   "cell_type": "code",
   "execution_count": 22,
   "metadata": {},
   "outputs": [
    {
     "name": "stdout",
     "output_type": "stream",
     "text": [
      "Recipient decodes: \n",
      "To jest text do zaszyfrowania i jeszcze trochę aby wyszły dwa bloki\n"
     ]
    }
   ],
   "source": [
    "decrypt_key = PBKDF2(b'password123', salt, 32, count=100000, hmac_hash_module=SHA256)\n",
    "iv = message[:16]\n",
    "ciphertext = message[16:]\n",
    "# Prepare cipher\n",
    "cipher = AES.new(decrypt_key, AES.MODE_CBC, iv)\n",
    "# Decrypt ciphertext\n",
    "received_plaintext = cipher.decrypt(ciphertext)\n",
    "# Remove padding\n",
    "received_message = Padding.unpad(received_plaintext,AES.block_size,'pkcs7').decode('utf-8')\n",
    "# Send encrypted data\n",
    "print(\"Recipient decodes: \")\n",
    "print(received_message)"
   ]
  },
  {
   "cell_type": "code",
   "execution_count": null,
   "metadata": {},
   "outputs": [],
   "source": []
  }
 ],
 "metadata": {
  "kernelspec": {
   "display_name": "Python 3",
   "language": "python",
   "name": "python3"
  },
  "language_info": {
   "codemirror_mode": {
    "name": "ipython",
    "version": 3
   },
   "file_extension": ".py",
   "mimetype": "text/x-python",
   "name": "python",
   "nbconvert_exporter": "python",
   "pygments_lexer": "ipython3",
   "version": "3.9.4"
  }
 },
 "nbformat": 4,
 "nbformat_minor": 4
}
