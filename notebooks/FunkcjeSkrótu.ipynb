{
 "cells": [
  {
   "cell_type": "markdown",
   "metadata": {
    "slideshow": {
     "slide_type": "slide"
    }
   },
   "source": [
    "# Funkcje skrótu"
   ]
  },
  {
   "cell_type": "markdown",
   "metadata": {
    "slideshow": {
     "slide_type": "subslide"
    }
   },
   "source": [
    "## SHA3-256"
   ]
  },
  {
   "cell_type": "code",
   "execution_count": 1,
   "metadata": {
    "slideshow": {
     "slide_type": "subslide"
    }
   },
   "outputs": [
    {
     "name": "stdout",
     "output_type": "stream",
     "text": [
      "hash = b'c5394aca2b055bd98cb363dd656a383fb900c57a23c85a4527b4bbcb5fe76d8a'\n"
     ]
    }
   ],
   "source": [
    "from Crypto.Hash import SHA256\n",
    "import binascii\n",
    "hasher = SHA256.new() \n",
    "hasher.update(b'Salve mundi')\n",
    "hasher.update(b'Hello world')\n",
    "hasher.update(\"Po łacinie wszystko brzmi mądrze\".encode('utf-8'))\n",
    "sha256_hash = hasher.digest()\n",
    "print(\"hash =\", binascii.hexlify(sha256_hash))"
   ]
  },
  {
   "cell_type": "markdown",
   "metadata": {
    "slideshow": {
     "slide_type": "subslide"
    }
   },
   "source": [
    "Wspierane algorytmy można sprawdzić w [w dokumentacji PyCryptodome](https://pycryptodome.readthedocs.io/en/latest/src/hash/hash.html#modern-hash-algorithms). Ich sposób użycia jest identyczny z pokazanym wyżej."
   ]
  },
  {
   "cell_type": "code",
   "execution_count": null,
   "metadata": {},
   "outputs": [],
   "source": []
  }
 ],
 "metadata": {
  "kernelspec": {
   "display_name": "Python 3",
   "language": "python",
   "name": "python3"
  },
  "language_info": {
   "codemirror_mode": {
    "name": "ipython",
    "version": 3
   },
   "file_extension": ".py",
   "mimetype": "text/x-python",
   "name": "python",
   "nbconvert_exporter": "python",
   "pygments_lexer": "ipython3",
   "version": "3.9.4"
  }
 },
 "nbformat": 4,
 "nbformat_minor": 4
}
