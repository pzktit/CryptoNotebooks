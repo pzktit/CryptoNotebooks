{
 "cells": [
  {
   "cell_type": "markdown",
   "metadata": {},
   "source": [
    "# Szyfry strumieniowe"
   ]
  },
  {
   "cell_type": "markdown",
   "metadata": {},
   "source": [
    "Jedną z najpopularniejszych metod realizacji generatorów klucza jest wykorzystanie szyfrów blokowych. Ze względu na swoje właściwości (możliwość rozpoczęcia generacji od dowolnego miejsca) bardzo chętnie stosuje licznikowy tryb pracy szyfru w którym szyfruje się kolejne wartości licznika. W tym trybie szyfr blokowy zawsze pracuje jako algorytm szyfrujący, a połączone kolejne szyfrogramy stanowią wyjściowe szyfrogramy. Ponieważ kolejne wartości licznika są szyfrowane niezależnie, więc można powiedzieć, że szyfr blokowy pracuje w trybie ECB. Właściwe szyfrowanie odbywa się poprzez łączenie operacją xor tekstu jawnego ze strumieniem klucza. Oczywiście generator klucza po stronie odbiorczej musi być zainicjowany tak samo jak generator po stronie nadawczej. Dzięki przekształceniu szyfru blokowego w strumieniowy unika się konieczności dopełniania danych."
   ]
  },
  {
   "cell_type": "markdown",
   "metadata": {},
   "source": [
    "## AKA"
   ]
  },
  {
   "cell_type": "markdown",
   "metadata": {},
   "source": [
    "Przed wykonaniem szyfrowania i deszyfrowania strony muszą być wyposażone w klucz tajny. Jeżeli współdzielona tajemnica jest tylko hasłem o niskiej entropii to należy przeprowadzić procedurę *key streching*. Oprócz współdzielonego hasła jej parametrem jest współdzielona i jawna liczba losowa *salt*. Procedury te zostaną omówione przy innej okazji. Tutaj zostanie przedstawiona tylko procedura która realizuje to zadanie. Procedurę tę muszą wykonać nadawca i odbiorca."
   ]
  },
  {
   "cell_type": "code",
   "execution_count": 3,
   "metadata": {},
   "outputs": [
    {
     "name": "stdout",
     "output_type": "stream",
     "text": [
      "Salt=  b'c40764ece5d4745604d4f36949bab060'\n",
      "Secret Key=  b'323d17590adddac6dd6bd5724bfb9ec23317507a3bf06eb0c4a81a5095f53802'\n"
     ]
    }
   ],
   "source": [
    "import binascii\n",
    "from Crypto.Protocol.KDF import PBKDF2\n",
    "from Crypto.Hash import SHA256\n",
    "from Crypto.Random import get_random_bytes\n",
    "# Key stretching\n",
    "password = b'password123'\n",
    "salt = get_random_bytes(16)\n",
    "secret_key = PBKDF2(password, salt, 32, count=100000, hmac_hash_module=SHA256)\n",
    "print(\"Salt= \", binascii.hexlify(salt))\n",
    "print(\"Secret Key= \", binascii.hexlify(secret_key))"
   ]
  },
  {
   "cell_type": "markdown",
   "metadata": {},
   "source": [
    "## Szyfrowanie"
   ]
  },
  {
   "cell_type": "code",
   "execution_count": 4,
   "metadata": {},
   "outputs": [
    {
     "name": "stdout",
     "output_type": "stream",
     "text": [
      "Plaintext=  b'546f206a657374207465787420646f207a61737a7966726f77616e6961'\n",
      "Recipient receives:\n",
      "Nonce=  b'46fe5ae542d24232' 8\n",
      "Ciphertext=  b'4f8bf974785a748d3b8847e26948fa751562bb948ae61cb643ff6edf00'\n"
     ]
    }
   ],
   "source": [
    "import os, binascii\n",
    "from Crypto.Cipher import AES\n",
    "# Prepare cipher\n",
    "cipher = AES.new(secret_key, AES.MODE_CTR)\n",
    "# Nonce is automatically generated\n",
    "anonce = cipher.nonce\n",
    "# Prepare message\n",
    "message = 'To jest text do zaszyfrowania'\n",
    "plaintext = message.encode('utf-8')\n",
    "print(\"Plaintext= \", binascii.hexlify(plaintext))\n",
    "ciphertext = cipher.encrypt(plaintext)\n",
    "# Send encrypted data\n",
    "print(\"Recipient receives:\")\n",
    "print(\"Nonce= \", binascii.hexlify(anonce), len(anonce))\n",
    "print(\"Ciphertext= \", binascii.hexlify(ciphertext))\n",
    "message = anonce + ciphertext"
   ]
  },
  {
   "cell_type": "markdown",
   "metadata": {},
   "source": [
    "## Deszyfrowanie"
   ]
  },
  {
   "cell_type": "markdown",
   "metadata": {},
   "source": [
    "Po stronie odbiorczej wystarczy identycznie zainicjować generator klucza."
   ]
  },
  {
   "cell_type": "code",
   "execution_count": 5,
   "metadata": {},
   "outputs": [
    {
     "name": "stdout",
     "output_type": "stream",
     "text": [
      "Message=  To jest text do zaszyfrowania\n"
     ]
    }
   ],
   "source": [
    "anonce = message[:8]\n",
    "ciphertext = message[8:]\n",
    "decryptor = AES.new( secret_key, AES.MODE_CTR, nonce=anonce)\n",
    "plaintext = decryptor.decrypt(ciphertext)\n",
    "print(\"Message= \", plaintext.decode('utf-8'))  "
   ]
  },
  {
   "cell_type": "markdown",
   "metadata": {},
   "source": [
    "**Pamiętaj!** Samo szyfrowanie nie zabezpiecza przed manipulowaniem danymi. Należy użyć kryptograficznych sum uwierzytelniających (MAC) aby się przed tym zabezpieczyć."
   ]
  }
 ],
 "metadata": {
  "kernelspec": {
   "display_name": "Python 3",
   "language": "python",
   "name": "python3"
  },
  "language_info": {
   "codemirror_mode": {
    "name": "ipython",
    "version": 3
   },
   "file_extension": ".py",
   "mimetype": "text/x-python",
   "name": "python",
   "nbconvert_exporter": "python",
   "pygments_lexer": "ipython3",
   "version": "3.9.4"
  }
 },
 "nbformat": 4,
 "nbformat_minor": 4
}
